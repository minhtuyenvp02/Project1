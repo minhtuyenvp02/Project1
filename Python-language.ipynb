{
 "cells": [
  {
   "cell_type": "markdown",
   "id": "7f3334a4",
   "metadata": {},
   "source": [
    "# Cú pháp cơ bản"
   ]
  },
  {
   "cell_type": "code",
   "execution_count": 2,
   "id": "05eb21bd",
   "metadata": {},
   "outputs": [],
   "source": [
    "#Dấu '' dấu \"\"  và dấu ''' '''\n",
    "a = 'Python'\n",
    "b = \"python\"\n",
    "c = '''Python\n",
    "       Python \n",
    "       Python'''\n"
   ]
  },
  {
   "cell_type": "code",
   "execution_count": 45,
   "id": "a5154f3c",
   "metadata": {},
   "outputs": [
    {
     "name": "stdout",
     "output_type": "stream",
     "text": [
      "hello world\n",
      "Enter a: 3\n"
     ]
    }
   ],
   "source": [
    "# Sử dụng print() để in dữ liệu ra màn hình\n",
    "print(\"hello world\")\n",
    "\n",
    "# Sử dụng input() để nhập dữ liệu \n",
    "a = int(input(\"Enter a: \"))\n"
   ]
  },
  {
   "cell_type": "code",
   "execution_count": 5,
   "id": "dedb2b25",
   "metadata": {},
   "outputs": [
    {
     "name": "stdout",
     "output_type": "stream",
     "text": [
      "Hello world!!!\n",
      "I'm Python\n"
     ]
    }
   ],
   "source": [
    "if True:\n",
    "    print(\"Hello world!!!\")\n",
    "    print(\"I'm Python\")\n",
    "else:\n",
    "    print(\"I'm Snake\")"
   ]
  },
  {
   "cell_type": "markdown",
   "id": "0fef5484",
   "metadata": {},
   "source": [
    "# Vào-ra dữ liệu"
   ]
  },
  {
   "cell_type": "code",
   "execution_count": 8,
   "id": "3f8541de",
   "metadata": {},
   "outputs": [
    {
     "name": "stdout",
     "output_type": "stream",
     "text": [
      "Hello world!!!\n",
      "Vui long nhap du lieu1234\n",
      "1234\n"
     ]
    }
   ],
   "source": [
    "print(\"Hello world!!!\")\n",
    "\n",
    "a = input(\"Vui long nhap du lieu\")\n",
    "print(a)"
   ]
  },
  {
   "cell_type": "code",
   "execution_count": 9,
   "id": "f772ee82",
   "metadata": {},
   "outputs": [
    {
     "name": "stdout",
     "output_type": "stream",
     "text": [
      "5\n",
      "soict 2023\n"
     ]
    }
   ],
   "source": [
    "a = 5\n",
    "b = \"soict 2023\"\n",
    "tuyen = 3.9\n",
    "print(a)\n",
    "print(b)"
   ]
  },
  {
   "cell_type": "markdown",
   "id": "cd94ac12",
   "metadata": {},
   "source": [
    "# Biến trong Python"
   ]
  },
  {
   "cell_type": "code",
   "execution_count": 10,
   "id": "d75db093",
   "metadata": {},
   "outputs": [
    {
     "name": "stdout",
     "output_type": "stream",
     "text": [
      "soict\n"
     ]
    }
   ],
   "source": [
    "x = 4\n",
    "x = \"soict\"\n",
    "print(x)"
   ]
  },
  {
   "cell_type": "code",
   "execution_count": 11,
   "id": "6afb5eeb",
   "metadata": {},
   "outputs": [
    {
     "name": "stdout",
     "output_type": "stream",
     "text": [
      "3\n",
      "1234\n"
     ]
    }
   ],
   "source": [
    "x = 3\n",
    "x = str(x) # x = '3'\n",
    "y = '1234'\n",
    "y = int(y) # y = 1234\n",
    "print(x)\n",
    "print(y)"
   ]
  },
  {
   "cell_type": "code",
   "execution_count": 12,
   "id": "15fdd9fc",
   "metadata": {},
   "outputs": [
    {
     "data": {
      "text/plain": [
       "(int, str)"
      ]
     },
     "execution_count": 12,
     "metadata": {},
     "output_type": "execute_result"
    }
   ],
   "source": [
    "a = 3\n",
    "b = \"soict\"\n",
    "type(a), type(b)"
   ]
  },
  {
   "cell_type": "code",
   "execution_count": 13,
   "id": "207f45b1",
   "metadata": {},
   "outputs": [
    {
     "name": "stdout",
     "output_type": "stream",
     "text": [
      "3\n",
      "4\n"
     ]
    }
   ],
   "source": [
    "A = 3\n",
    "a = 4\n",
    "print(A)\n",
    "print(a)"
   ]
  },
  {
   "cell_type": "code",
   "execution_count": 14,
   "id": "e8d3bae7",
   "metadata": {},
   "outputs": [
    {
     "name": "stdout",
     "output_type": "stream",
     "text": [
      "2023 2023 2023 2023\n"
     ]
    }
   ],
   "source": [
    "soict = 2023\n",
    "so_ict = 2023\n",
    "_so_ict = 2023\n",
    "_soict = 2023\n",
    "print(soict, _soict, so_ict, _so_ict)"
   ]
  },
  {
   "cell_type": "code",
   "execution_count": 1,
   "id": "5ea306ba",
   "metadata": {},
   "outputs": [],
   "source": [
    "my_variable = 0 # Snake case\n",
    "myVariable = 0 #Camel case\n",
    "MyVariable = 0 #Pascal case"
   ]
  },
  {
   "cell_type": "code",
   "execution_count": 2,
   "id": "f5fbe334",
   "metadata": {},
   "outputs": [
    {
     "name": "stdout",
     "output_type": "stream",
     "text": [
      "4 4 4\n"
     ]
    }
   ],
   "source": [
    "a = b = c = 4\n",
    "print(a, b, c)"
   ]
  },
  {
   "cell_type": "code",
   "execution_count": 5,
   "id": "62b9649e",
   "metadata": {},
   "outputs": [
    {
     "name": "stdout",
     "output_type": "stream",
     "text": [
      "dog cat chicken\n",
      "1 2 3 8\n"
     ]
    }
   ],
   "source": [
    "animals = ['dog', 'cat', 'chicken']\n",
    "a,b,c = animals\n",
    "\n",
    "list_number = [1,2,3,4,5,6,7,8]\n",
    "d,e,f, *other, g = list_number  # *orther are 4,5,6,7\n",
    "print(a, b, c)\n",
    "print(d, e, f, g)"
   ]
  },
  {
   "cell_type": "code",
   "execution_count": 7,
   "id": "217b7f4b",
   "metadata": {},
   "outputs": [
    {
     "name": "stdout",
     "output_type": "stream",
     "text": [
      "7\n",
      "3\n"
     ]
    }
   ],
   "source": [
    "x = 3\n",
    "def my_function():\n",
    "    \n",
    "    y = 4;\n",
    "    print(x + y) # 7\n",
    "my_function()\n",
    "print(x)"
   ]
  },
  {
   "cell_type": "code",
   "execution_count": 10,
   "id": "d268f1b5",
   "metadata": {},
   "outputs": [
    {
     "name": "stdout",
     "output_type": "stream",
     "text": [
      "pythonis great!!!\n",
      "pythonis easy!!!\n"
     ]
    }
   ],
   "source": [
    "x = \"python\"\n",
    "def my_function():\n",
    "    x = \"is great!!!\"\n",
    "    print(\"python\" + x)\n",
    "my_function()\n",
    "print(x + \"is easy!!!\")\n"
   ]
  },
  {
   "cell_type": "code",
   "execution_count": 13,
   "id": "9390a15c",
   "metadata": {},
   "outputs": [
    {
     "name": "stdout",
     "output_type": "stream",
     "text": [
      "python is great!!!\n",
      " is great!!!\n"
     ]
    }
   ],
   "source": [
    "x = \"python\"\n",
    "def my_function():\n",
    "    global x \n",
    "    x = \" is great!!!\"\n",
    "    print(\"python\" + x)\n",
    "my_function()\n",
    "print(x) # x = is great!!!"
   ]
  },
  {
   "cell_type": "code",
   "execution_count": 7,
   "id": "191ffee2",
   "metadata": {},
   "outputs": [
    {
     "name": "stdout",
     "output_type": "stream",
     "text": [
      "python is easy!!! Python is great!!!\n"
     ]
    }
   ],
   "source": [
    "str = \"python is easy!!!\"\n",
    "str2 = 'Python is great!!!'\n",
    "print(str, str2)"
   ]
  },
  {
   "cell_type": "markdown",
   "id": "f58195e6",
   "metadata": {},
   "source": [
    "## Phạm vi biến trong Python"
   ]
  },
  {
   "cell_type": "markdown",
   "id": "70a1869f",
   "metadata": {},
   "source": [
    "### Biến địa phương (local var) \n",
    "### *Biến chỉ được sử dụng trong phạm vi một hàm, khối lệnh mà nó được khai báo\n",
    "### Biến toàn cục (global var)\n",
    "### * Biến được khai báo trong phần thân chính của chương trình và có thể được truy cập ở bất cứ phạm vi nào\n",
    "### Nếu hai biến giống tên nhau nhưng một biến có phạm vi toàn cục, biến còn lại là cục bộ thì python coi chúng như hai biến khác nhau\n",
    "### Thú tự kiểm tra local -> local parents -> global"
   ]
  },
  {
   "cell_type": "code",
   "execution_count": 132,
   "id": "692a8a70",
   "metadata": {},
   "outputs": [
    {
     "name": "stdout",
     "output_type": "stream",
     "text": [
      "300\n",
      "10\n"
     ]
    }
   ],
   "source": [
    "x = 300\n",
    "def my_function():\n",
    "    x = 10\n",
    "    return x\n",
    "print(x) # 300\n",
    "print(my_function()) #10"
   ]
  },
  {
   "cell_type": "markdown",
   "id": "f8972d63",
   "metadata": {},
   "source": [
    "### Từ khoá global "
   ]
  },
  {
   "cell_type": "code",
   "execution_count": 140,
   "id": "49f1b776",
   "metadata": {},
   "outputs": [
    {
     "name": "stdout",
     "output_type": "stream",
     "text": [
      "400\n"
     ]
    }
   ],
   "source": [
    "# Sử dụng global để thay đổi giá trị của một biến toàn cục trong một hàm địa phương\n",
    "\n",
    "x = 300\n",
    "def my_function():\n",
    "    global x\n",
    "    x += 100\n",
    "    return x\n",
    "my_function()\n",
    "print(x)# 400\n",
    "\n"
   ]
  },
  {
   "cell_type": "markdown",
   "id": "b149d8b1",
   "metadata": {},
   "source": [
    "# Kiểu dữ liệu"
   ]
  },
  {
   "cell_type": "markdown",
   "id": "b295df1c",
   "metadata": {},
   "source": [
    "## String"
   ]
  },
  {
   "cell_type": "markdown",
   "id": "1eaebf28",
   "metadata": {},
   "source": [
    "### Duyệt và kiểm tra"
   ]
  },
  {
   "cell_type": "markdown",
   "id": "9da19dd3",
   "metadata": {},
   "source": [
    "#### Lấy một phần tử  tại vị trí i của chuỗi"
   ]
  },
  {
   "cell_type": "code",
   "execution_count": 5,
   "id": "23385881",
   "metadata": {},
   "outputs": [
    {
     "name": "stdout",
     "output_type": "stream",
     "text": [
      "e\n"
     ]
    }
   ],
   "source": [
    "a = \"Hello Soict\"\n",
    "print(a[1])"
   ]
  },
  {
   "cell_type": "markdown",
   "id": "e98a67e8",
   "metadata": {},
   "source": [
    "#### Lấy chiều dài của chuỗi\n"
   ]
  },
  {
   "cell_type": "code",
   "execution_count": 2,
   "id": "171ebee9",
   "metadata": {},
   "outputs": [
    {
     "data": {
      "text/plain": [
       "11"
      ]
     },
     "execution_count": 2,
     "metadata": {},
     "output_type": "execute_result"
    }
   ],
   "source": [
    "len(a)"
   ]
  },
  {
   "cell_type": "markdown",
   "id": "c201efcc",
   "metadata": {},
   "source": [
    "#### Duyệt chuỗi bằng vòng lặp"
   ]
  },
  {
   "cell_type": "markdown",
   "id": "221f87e1",
   "metadata": {},
   "source": [
    "for x in a:\n",
    "    print(x, end='')"
   ]
  },
  {
   "cell_type": "markdown",
   "id": "45537b80",
   "metadata": {},
   "source": [
    "#### Kiểm tra chuỗi s1 có nằm trong s2"
   ]
  },
  {
   "cell_type": "code",
   "execution_count": 10,
   "id": "93acf0ea",
   "metadata": {},
   "outputs": [
    {
     "name": "stdout",
     "output_type": "stream",
     "text": [
      "True\n",
      "False\n"
     ]
    }
   ],
   "source": [
    "s1 = \"Hello soict\"\n",
    "s2 = \"Hello soict. I'm Tuyen\"\n",
    "print(s1 in s2) #True\n",
    "print(s1 not in s2) #False"
   ]
  },
  {
   "cell_type": "markdown",
   "id": "406cc7b0",
   "metadata": {},
   "source": [
    "### Cắt chuỗi"
   ]
  },
  {
   "cell_type": "markdown",
   "id": "15dd90fb",
   "metadata": {},
   "source": [
    "#### Cắt lát"
   ]
  },
  {
   "cell_type": "code",
   "execution_count": 14,
   "id": "bdc9ae12",
   "metadata": {},
   "outputs": [
    {
     "name": "stdout",
     "output_type": "stream",
     "text": [
      "Hel\n",
      "lo S\n",
      "oict 2023\n",
      " 20\n"
     ]
    }
   ],
   "source": [
    "s = \"Hello Soict 2023\"\n",
    "print(s[:3]) #Hel\n",
    "print(s[3:7]) #lo S\n",
    "print(s[7:]) #oict 2023\n",
    "print(s[-5:-2]) #20"
   ]
  },
  {
   "cell_type": "markdown",
   "id": "df8a72dd",
   "metadata": {},
   "source": [
    "### Sửa chuỗi"
   ]
  },
  {
   "cell_type": "markdown",
   "id": "f5ee3794",
   "metadata": {},
   "source": [
    "#### Trả về chuỗi ở dạng chữ hoa hoặc thường"
   ]
  },
  {
   "cell_type": "code",
   "execution_count": 16,
   "id": "8d9fad44",
   "metadata": {},
   "outputs": [
    {
     "name": "stdout",
     "output_type": "stream",
     "text": [
      "HELLO SOICT 2023\n",
      "hello soict 2023\n"
     ]
    }
   ],
   "source": [
    "s = \"Hello Soict 2023\"\n",
    "print(s.upper())\n",
    "print(s.lower())"
   ]
  },
  {
   "cell_type": "markdown",
   "id": "2188c12a",
   "metadata": {},
   "source": [
    "#### Xoá khoảng trắng ở đầu và cuối chuỗi"
   ]
  },
  {
   "cell_type": "code",
   "execution_count": 18,
   "id": "18a9e74b",
   "metadata": {},
   "outputs": [
    {
     "name": "stdout",
     "output_type": "stream",
     "text": [
      "Soict 2023\n"
     ]
    }
   ],
   "source": [
    "s = \"  Soict 2023  \"\n",
    "print(s.strip())"
   ]
  },
  {
   "cell_type": "markdown",
   "id": "ebc99e91",
   "metadata": {},
   "source": [
    "#### Thay thế chuỗi bằng một chuỗi khác"
   ]
  },
  {
   "cell_type": "code",
   "execution_count": 20,
   "id": "2702dfeb",
   "metadata": {},
   "outputs": [
    {
     "name": "stdout",
     "output_type": "stream",
     "text": [
      "Soict 2023\n"
     ]
    }
   ],
   "source": [
    "s = \"Soict 2022\"\n",
    "print(s.replace(\"2022\", \"2023\"))"
   ]
  },
  {
   "cell_type": "markdown",
   "id": "e0eecbd5",
   "metadata": {},
   "source": [
    "#### Tách chuỗi bằng kĩ tự xác định trong chuỗi"
   ]
  },
  {
   "cell_type": "code",
   "execution_count": 22,
   "id": "fd4fdd5d",
   "metadata": {},
   "outputs": [
    {
     "name": "stdout",
     "output_type": "stream",
     "text": [
      "['Hello Soict', \" I'm Tuyen\"]\n"
     ]
    }
   ],
   "source": [
    "a = \"Hello Soict. I'm Tuyen\"\n",
    "print(a.split(\".\")) "
   ]
  },
  {
   "cell_type": "markdown",
   "id": "113dc283",
   "metadata": {},
   "source": [
    "### Nối chuỗi"
   ]
  },
  {
   "cell_type": "code",
   "execution_count": 24,
   "id": "d6e041d9",
   "metadata": {},
   "outputs": [
    {
     "name": "stdout",
     "output_type": "stream",
     "text": [
      "Hello soict\n"
     ]
    }
   ],
   "source": [
    "# Sử dụng toán tử +\n",
    "a = \"Hello\"\n",
    "b = \" \"\n",
    "c = \"soict\"\n",
    "print(a + b + c)"
   ]
  },
  {
   "cell_type": "markdown",
   "id": "88d1fece",
   "metadata": {},
   "source": [
    "###  Định dạng chuỗi - string.format()"
   ]
  },
  {
   "cell_type": "code",
   "execution_count": 30,
   "id": "8071b6fa",
   "metadata": {},
   "outputs": [
    {
     "name": "stdout",
     "output_type": "stream",
     "text": [
      "The cost Item 100 is 34.5 \n",
      "The cost Item 100 is 34.5 \n",
      "I want to pay 34.5 dollars for item 100\n"
     ]
    }
   ],
   "source": [
    "id_item = 100\n",
    "price = 34.5\n",
    "#Cách 1\n",
    "s1 =  \"The cost Item {} is {} \"\n",
    "print(s1.format(id_item, price))\n",
    "#Cách 2\n",
    "print(f\"The cost Item {id_item} is {price} \")\n",
    "#Cách 3\n",
    "myorder = \"I want to pay {1} dollars for item {0}\"\n",
    "print(myorder.format(id_item, price))\n",
    "\n"
   ]
  },
  {
   "cell_type": "markdown",
   "id": "d2ef61bf",
   "metadata": {},
   "source": [
    "## Kiểu Boolean"
   ]
  },
  {
   "cell_type": "markdown",
   "id": "9e085702",
   "metadata": {},
   "source": [
    "### Giá trị Boolean"
   ]
  },
  {
   "cell_type": "code",
   "execution_count": 31,
   "id": "342c5e26",
   "metadata": {},
   "outputs": [
    {
     "name": "stdout",
     "output_type": "stream",
     "text": [
      "False\n",
      "False\n",
      "True\n",
      "True\n",
      "False\n",
      "True\n",
      "False\n"
     ]
    }
   ],
   "source": [
    "print(9 == 10) #False\n",
    "print(9 > 10)  #False\n",
    "print(9 < 10)  #True\n",
    "print(bool(\"Hell0\")) #True\n",
    "print(bool(\"\")) #False\n",
    "print(bool(10)) #True\n",
    "print(bool(None)) #False"
   ]
  },
  {
   "cell_type": "markdown",
   "id": "93993a02",
   "metadata": {},
   "source": [
    "### Biểu thức điều kiện"
   ]
  },
  {
   "cell_type": "code",
   "execution_count": 33,
   "id": "2543f038",
   "metadata": {},
   "outputs": [
    {
     "name": "stdout",
     "output_type": "stream",
     "text": [
      "Is true\n",
      "Very True\n",
      "True\n"
     ]
    }
   ],
   "source": [
    "if 10:\n",
    "    print(\"Is true\")\n",
    "if 10 > 9:\n",
    "    print(\"Very True\")\n",
    "\n",
    "x = 200\n",
    "print(isinstance(x, int))\n",
    "    "
   ]
  },
  {
   "cell_type": "markdown",
   "id": "6c30a825",
   "metadata": {},
   "source": [
    "## Kiểu số\n",
    "### float, int, complex"
   ]
  },
  {
   "cell_type": "code",
   "execution_count": 36,
   "id": "649fd11b",
   "metadata": {},
   "outputs": [
    {
     "name": "stdout",
     "output_type": "stream",
     "text": [
      "<class 'int'>\n",
      "<class 'float'>\n",
      "<class 'complex'>\n"
     ]
    }
   ],
   "source": [
    "x = 1 # int\n",
    "y = 1.0 # float\n",
    "z = 1j #complex\n",
    "print(type(x))\n",
    "print(type(y))\n",
    "print(type(z))"
   ]
  },
  {
   "cell_type": "markdown",
   "id": "1b628cc7",
   "metadata": {},
   "source": [
    "### Ép kiểu"
   ]
  },
  {
   "cell_type": "code",
   "execution_count": 39,
   "id": "75ee73cc",
   "metadata": {},
   "outputs": [
    {
     "name": "stdout",
     "output_type": "stream",
     "text": [
      "<class 'float'>\n",
      "<class 'int'>\n",
      "<class 'complex'>\n",
      "<class 'int'>\n",
      "<class 'str'>\n"
     ]
    }
   ],
   "source": [
    "x = 1\n",
    "y = 2.2\n",
    "z = 1j\n",
    "t = '3'\n",
    "# chuyển đổi từ int sang float\n",
    "a = float(x)\n",
    "# chuyển đổi từ float sang int\n",
    "b = int(y)\n",
    "#chuyển đổi từ int sang complex\n",
    "c = complex(x)\n",
    "#Chuyển đổi từ string sang int\n",
    "d = int(t)\n",
    "#chuyển đổi từ float sang str\n",
    "e = str(t)\n",
    "print(type(a))\n",
    "print(type(b))\n",
    "print(type(c))\n",
    "print(type(d))\n",
    "print(type(e))"
   ]
  },
  {
   "cell_type": "markdown",
   "id": "378cbb15",
   "metadata": {},
   "source": [
    "## Các toán tử"
   ]
  },
  {
   "cell_type": "markdown",
   "id": "6efc2268",
   "metadata": {},
   "source": [
    "### Toán tử số học\n",
    "#### Cộng, trừ, nhân, chia, lấy dư, luỹ thừa,...\n"
   ]
  },
  {
   "cell_type": "code",
   "execution_count": 42,
   "id": "23b71a58",
   "metadata": {},
   "outputs": [
    {
     "name": "stdout",
     "output_type": "stream",
     "text": [
      "13\n",
      "7\n",
      "30\n",
      "3.3333333333333335\n",
      "1\n",
      "1000\n"
     ]
    }
   ],
   "source": [
    "x,y = 10, 3\n",
    "print(x + y)\n",
    "print(x - y)\n",
    "print(x * y)\n",
    "print(x / y)\n",
    "print(x % y)\n",
    "print(x ** y) # x luỹ thừa y"
   ]
  },
  {
   "cell_type": "markdown",
   "id": "fc3d2f44",
   "metadata": {},
   "source": [
    "### Toán tử gán giá trị\n",
    "#### Sử dụng để gán giá trị cho biến"
   ]
  },
  {
   "cell_type": "code",
   "execution_count": 45,
   "id": "45e84c6c",
   "metadata": {},
   "outputs": [
    {
     "name": "stdout",
     "output_type": "stream",
     "text": [
      "5\n",
      "8\n",
      "5\n",
      "15\n",
      "5.0\n",
      "125.0\n"
     ]
    }
   ],
   "source": [
    "x = 5\n",
    "print(x)\n",
    "x += 3\n",
    "print(x) #x = x + 3\n",
    "x -= 3\n",
    "print(x) #x = x - 3\n",
    "x *= 3\n",
    "print(x) #x = x * 3\n",
    "x /= 3\n",
    "print(x) #x = x / 3\n",
    "x **=3\n",
    "print(x) #x = x ** 3"
   ]
  },
  {
   "cell_type": "markdown",
   "id": "b5eedb90",
   "metadata": {},
   "source": [
    "### Toán tử so sánh\n",
    "#### Sử dụng để so sánh hai giá trị"
   ]
  },
  {
   "cell_type": "code",
   "execution_count": 47,
   "id": "4ffd3551",
   "metadata": {},
   "outputs": [
    {
     "name": "stdout",
     "output_type": "stream",
     "text": [
      "True\n",
      "False\n",
      "True\n",
      "False\n",
      "True\n"
     ]
    }
   ],
   "source": [
    "x,y,z,t = 5,5,6,7\n",
    "print(x == y) # True\n",
    "print(x > z) #False\n",
    "print(x < z) #True\n",
    "print(x >= t) #False\n",
    "print(x != t) # x khác t -> True"
   ]
  },
  {
   "cell_type": "markdown",
   "id": "c280f96a",
   "metadata": {},
   "source": [
    "### Toán tử Logic \n",
    "#### and( True khi cả hai vế điều kiện đều True)\n",
    "#### or( True khi một trong hai vế điều kiện True)\n",
    "#### not(True khi biểu thức điều kiện False)\n",
    "#### Sử dụng để kết hợp các biểu thức điều kiện"
   ]
  },
  {
   "cell_type": "code",
   "execution_count": 49,
   "id": "4b4b025a",
   "metadata": {},
   "outputs": [
    {
     "name": "stdout",
     "output_type": "stream",
     "text": [
      "It is Great\n",
      "Very Great\n",
      "😂😂😂\n"
     ]
    }
   ],
   "source": [
    "x,y = 3,4\n",
    "if(x > 1 and x < 5):\n",
    "    print(\"It is Great\")\n",
    "if(x > 5 or y < 6):\n",
    "    print(\"Very Great\")\n",
    "if(not(5 > 6)):\n",
    "    print(\"😂😂😂\")"
   ]
  },
  {
   "cell_type": "markdown",
   "id": "4315ffd8",
   "metadata": {},
   "source": [
    "### Toán tử nhận dạng\n",
    "#### is,  is not\n",
    "#### Kiểm tra xem hai đối tượng có thực sự là một không tức là có cùng vị trí trong bộ nhớ không."
   ]
  },
  {
   "cell_type": "code",
   "execution_count": 50,
   "id": "418d8852",
   "metadata": {},
   "outputs": [
    {
     "name": "stdout",
     "output_type": "stream",
     "text": [
      "False\n",
      "True\n",
      "True\n"
     ]
    }
   ],
   "source": [
    "x = \"Soict 2023\"\n",
    "y = \"Soict 2023\"\n",
    "z = x\n",
    "print(x is y) # False\n",
    "print(x is not y) # True\n",
    "print(x is z) # True\n"
   ]
  },
  {
   "cell_type": "markdown",
   "id": "bcc61f59",
   "metadata": {},
   "source": [
    "### Toán tử kiểm tra thành viên\n",
    "#### in, not in\n",
    "#### Kiểm tra xem một phần tử có ở trong một đối tượng khác hay không"
   ]
  },
  {
   "cell_type": "code",
   "execution_count": 51,
   "id": "c6cc64e2",
   "metadata": {},
   "outputs": [
    {
     "name": "stdout",
     "output_type": "stream",
     "text": [
      "True\n",
      "True\n"
     ]
    }
   ],
   "source": [
    "x = [\"dog\", \"cat\"]\n",
    "print(\"dog\" in x) #True\n",
    "print(\"monkey\" not in x) #True"
   ]
  },
  {
   "cell_type": "markdown",
   "id": "79154bef",
   "metadata": {},
   "source": [
    "### Toán tử với bit\n",
    "#### &, |, ^, ~, <<, >>\n",
    "#### Sử dụng để so sánh các số(nhị phân)"
   ]
  },
  {
   "cell_type": "code",
   "execution_count": 52,
   "id": "8111d878",
   "metadata": {},
   "outputs": [
    {
     "name": "stdout",
     "output_type": "stream",
     "text": [
      "2\n",
      "3\n",
      "1\n",
      "8\n",
      "0\n"
     ]
    }
   ],
   "source": [
    "x = 2 # 0010\n",
    "y = 3 # 0011\n",
    "print(x & y) # 0010\n",
    "print(x | y) # 0011\n",
    "print(x ^ y) # 1100\n",
    "print( x << 2) # 0100\n",
    "print(y >> 2) # 0000"
   ]
  },
  {
   "cell_type": "markdown",
   "id": "dba5c3f4",
   "metadata": {},
   "source": [
    "### Thứ tự ưu tiên phép toán\n"
   ]
  },
  {
   "cell_type": "code",
   "execution_count": 54,
   "id": "82c75307",
   "metadata": {},
   "outputs": [
    {
     "data": {
      "text/plain": [
       "'\\n()\\n**\\n+x -x ~x\\n* / // %\\n+ -\\n<< >>\\n&\\n^\\n|\\n== != >\\n>= < <=\\nis is not\\nin not in\\nnot\\nand\\nor\\n'"
      ]
     },
     "execution_count": 54,
     "metadata": {},
     "output_type": "execute_result"
    }
   ],
   "source": [
    "'''\n",
    "()\n",
    "**\n",
    "+x -x ~x\n",
    "* / // %\n",
    "+ -\n",
    "<< >>\n",
    "&\n",
    "^\n",
    "|\n",
    "== != >\n",
    ">= < <=\n",
    "is is not\n",
    "in not in\n",
    "not\n",
    "and\n",
    "or\n",
    "'''"
   ]
  },
  {
   "cell_type": "markdown",
   "id": "9205cf8b",
   "metadata": {},
   "source": [
    "## Python List\n",
    "### -Sử dụng danh sách để lưu trữ nhiều phần tử trong một biến duy nhất\n",
    "### - Các tính chất của List:\n",
    "#### - Các phần tử trong List có thể là bất cứ kiểu dữ liệu nào, và chúng được gắn những chỉ số theo thứ tự từ 0, 1 ,...\n",
    "#### - List là kiểu dữ liệu có thể thay đổi và cho phép các phần tử có thể trùng nhau\n",
    "#### - Các phần tử trong List tuân theo một trật tự cố định, tức là khi thêm một phần tử mới vào List, nó phải được thêm vào cuối danh sách"
   ]
  },
  {
   "cell_type": "markdown",
   "id": "6e0a71e3",
   "metadata": {},
   "source": [
    "#### Độ dài của một danh sách"
   ]
  },
  {
   "cell_type": "code",
   "execution_count": 97,
   "id": "2c59f9b8",
   "metadata": {},
   "outputs": [
    {
     "name": "stdout",
     "output_type": "stream",
     "text": [
      "3\n",
      "1\n"
     ]
    }
   ],
   "source": [
    "my_list = [\"dog\", \"cat\", \"chicken\"]\n",
    "print(len(my_list))\n",
    "print(my_list.count(\"cat\")) # Trả về số con mèo trong danh sách"
   ]
  },
  {
   "cell_type": "markdown",
   "id": "fa6fa780",
   "metadata": {},
   "source": [
    "#### Một danh sách có thể chữa nhiếu kiểu dữ liệu khác nhau"
   ]
  },
  {
   "cell_type": "code",
   "execution_count": 59,
   "id": "4910e987",
   "metadata": {},
   "outputs": [
    {
     "name": "stdout",
     "output_type": "stream",
     "text": [
      "['banana', 10, 9.0, True, 2j]\n",
      "<class 'list'>\n"
     ]
    }
   ],
   "source": [
    "my_list = [\"banana\", 10, 9.0, True, 2j]\n",
    "print(my_list)\n",
    "print(type(my_list))"
   ]
  },
  {
   "cell_type": "markdown",
   "id": "c0910dec",
   "metadata": {},
   "source": [
    "#### Truy cập và trả về các phần tử theo chỉ số"
   ]
  },
  {
   "cell_type": "code",
   "execution_count": 70,
   "id": "203ec008",
   "metadata": {},
   "outputs": [
    {
     "name": "stdout",
     "output_type": "stream",
     "text": [
      "[0, 1, 2, 3, 4, 5, 6, 7, 8, 9]\n",
      "5\n",
      "[0, 1, 2, 3, 4]\n",
      "[6, 7, 8, 9]\n",
      "[2, 3, 4]\n",
      "7\n",
      "[5, 6]\n"
     ]
    }
   ],
   "source": [
    "my_list = [0, 1, 2, 3, 4, 5, 6, 7, 8, 9]\n",
    "print(my_list)\n",
    "print(my_list[5])\n",
    "print(my_list[:5])\n",
    "print(my_list[6:])\n",
    "print(my_list[2:5])\n",
    "print(my_list[-3])\n",
    "print(my_list[-5:-3])"
   ]
  },
  {
   "cell_type": "markdown",
   "id": "1141fc77",
   "metadata": {},
   "source": [
    "#### Kiểm tra một phần tử có nằm trong List hay không"
   ]
  },
  {
   "cell_type": "code",
   "execution_count": 71,
   "id": "c465ebdc",
   "metadata": {},
   "outputs": [
    {
     "name": "stdout",
     "output_type": "stream",
     "text": [
      "We have a dog\n"
     ]
    }
   ],
   "source": [
    "my_list = [\"dog\", \"cat\", \"chicken\"]\n",
    "if \"dog\" in my_list :\n",
    "    print(\"We have a dog\")"
   ]
  },
  {
   "cell_type": "markdown",
   "id": "60bd2638",
   "metadata": {},
   "source": [
    "#### Thay đổi đối với List"
   ]
  },
  {
   "cell_type": "code",
   "execution_count": 73,
   "id": "480fefad",
   "metadata": {},
   "outputs": [
    {
     "name": "stdout",
     "output_type": "stream",
     "text": [
      "['dog', 'cat', 'monkey', 'bird', 'horse']\n",
      "['dog', 'snake', 'firsh', 'pink', 'horse']\n",
      "['dog', 'snake', 'buffalo', 'firsh', 'pink', 'horse']\n"
     ]
    }
   ],
   "source": [
    "list_one = [\"dog\", \"cat\", \"monkey\", \"bird\", \"horse\"]\n",
    "print(list_one)\n",
    "list_one[1] = \"snake\"\n",
    "list_one[2:4] = [\"firsh\", \"pink\"]\n",
    "print(list_one) \n",
    "list_one.insert(2, 'buffalo') # chèn phần tử Buffalo vào vị trí thứ 2\n",
    "print(list_one)"
   ]
  },
  {
   "cell_type": "markdown",
   "id": "0ea14f18",
   "metadata": {},
   "source": [
    "#### Mở rộng List"
   ]
  },
  {
   "cell_type": "code",
   "execution_count": 75,
   "id": "bea94a2e",
   "metadata": {},
   "outputs": [
    {
     "name": "stdout",
     "output_type": "stream",
     "text": [
      "['apple', 'banana', 'cherry', 'orange']\n",
      "['apple', 'banana', 'cherry', 'orange', 'water melon']\n",
      "['apple', 'banana', 'coconut', 'cherry', 'orange', 'water melon']\n",
      "['apple', 'banana', 'coconut', 'cherry', 'orange', 'water melon', 'mango', 'strawbery']\n"
     ]
    }
   ],
   "source": [
    "my_list = [\"apple\", \"banana\", \"cherry\", \"orange\"]\n",
    "list_added = [\"mango\", \"strawbery\"]\n",
    "print(my_list)\n",
    "my_list.append(\"water melon\") # Thêm một phần tử vào cuối danh sách\n",
    "print(my_list)\n",
    "my_list.insert(2, \"coconut\") # Thêm một phần tử vào vị trí thứ 2\n",
    "print(my_list)\n",
    "my_list.extend(list_added) #Thêm một danh sách vào phía sau\n",
    "print(my_list)"
   ]
  },
  {
   "cell_type": "markdown",
   "id": "fa8d7766",
   "metadata": {},
   "source": [
    "### Xoá List"
   ]
  },
  {
   "cell_type": "code",
   "execution_count": 79,
   "id": "187d614e",
   "metadata": {},
   "outputs": [
    {
     "name": "stdout",
     "output_type": "stream",
     "text": [
      "['toyota', 'honda', 'tesla', 'vinfast']\n",
      "['honda', 'tesla', 'vinfast']\n",
      "[]\n"
     ]
    }
   ],
   "source": [
    "my_list = [\"toyota\", \"mercedes\", \"honda\", \"tesla\", \"vinfast\"]\n",
    "# Xoá một phần tử có trong List\n",
    "my_list.remove(\"mercedes\")\n",
    "print(my_list)\n",
    "\n",
    "# Xoá một phần tử theo chỉ mục\n",
    "my_list.pop(0)\n",
    "print(my_list)\n",
    "\n",
    "#Xoá toàn bộ List\n",
    "my_list.clear()\n",
    "print(my_list)"
   ]
  },
  {
   "cell_type": "markdown",
   "id": "cd10aad9",
   "metadata": {},
   "source": [
    "### Duyệt List"
   ]
  },
  {
   "cell_type": "code",
   "execution_count": 82,
   "id": "f66a903e",
   "metadata": {},
   "outputs": [
    {
     "name": "stdout",
     "output_type": "stream",
     "text": [
      "toyota mercedes honda tesla vinfast \n",
      "\n",
      "toyota mercedes honda tesla vinfast "
     ]
    }
   ],
   "source": [
    "my_list = [\"toyota\", \"mercedes\", \"honda\", \"tesla\", \"vinfast\"]\n",
    "# Duyệt bằng vòng lặp\n",
    "for x in my_list:\n",
    "    print(x +\" \", end=\"\")\n",
    "print(\"\\n\")  \n",
    "# Duyệt qua các chỉ mục\n",
    "for i in range(len(my_list)):\n",
    "    print(my_list[i] + \" \", end=\"\")\n"
   ]
  },
  {
   "cell_type": "markdown",
   "id": "79554380",
   "metadata": {},
   "source": [
    "#### List Comprehension\n",
    "#### Cú pháp: \n",
    "     new_List = [expression for item in iterable if condition = True]"
   ]
  },
  {
   "cell_type": "code",
   "execution_count": 83,
   "id": "e425da59",
   "metadata": {},
   "outputs": [
    {
     "name": "stdout",
     "output_type": "stream",
     "text": [
      "['toyota', 'mercedes', 'honda', 'vinfast']\n"
     ]
    }
   ],
   "source": [
    "my_list = [\"toyota\", \"mercedes\", \"honda\", \"tesla\", \"vinfast\"]\n",
    "\n",
    "# Trả về một List mới mà không có phần tử nào là \"tesla\"\n",
    "newlist = [x for x in my_list if x != \"tesla\"]\n",
    "print(newlist)"
   ]
  },
  {
   "cell_type": "markdown",
   "id": "cace68a3",
   "metadata": {},
   "source": [
    "### Sắp xếp các phần tử trong List"
   ]
  },
  {
   "cell_type": "code",
   "execution_count": 90,
   "id": "8d07b6c2",
   "metadata": {},
   "outputs": [
    {
     "name": "stdout",
     "output_type": "stream",
     "text": [
      "['toyota', 'mercedeS', 'hondA', 'tesla', 'vinfast']\n",
      "[1, 3, 2, 10, 4, 2, 5]\n",
      "[1, 2, 2, 3, 4, 5, 10]\n",
      "[10, 5, 4, 3, 2, 2, 1]\n",
      "['vinfast', 'toyota', 'tesla', 'mercedeS', 'hondA']\n"
     ]
    }
   ],
   "source": [
    "my_list = [\"toyota\", \"mercedeS\", \"hondA\", \"tesla\", \"vinfast\"]\n",
    "list_number = [1,3,2,10,4,2,5]\n",
    "print(my_list)\n",
    "print(list_number)\n",
    "#Sắp xếp một danh sách các số theo thứ tự tăng dần(mặc định)\n",
    "list_number.sort()\n",
    "print(list_number)\n",
    "\n",
    "#Sắp xếp một danh sách theo thứ tự giảm dần\n",
    "list_number.sort(reverse = True)\n",
    "print(list_number)\n",
    "\n",
    "#Sắp xếp có điều kiện\n",
    "def sort_condition(s):\n",
    "    return s[-1]\n",
    "my_list.sort(reverse = True, key = sort_condition) # Sắp xếp theo chữ cái\n",
    "                                        #cuối cùng theo thứ tự ngược lại\n",
    "print(my_list)"
   ]
  },
  {
   "cell_type": "markdown",
   "id": "0cc9d5a8",
   "metadata": {},
   "source": [
    "### Sao chép List"
   ]
  },
  {
   "cell_type": "code",
   "execution_count": 99,
   "id": "59786ace",
   "metadata": {},
   "outputs": [
    {
     "name": "stdout",
     "output_type": "stream",
     "text": [
      "['toyota', 'mercedeS', 'hondA', 'tesla', 'vinfast']\n",
      "['toyota', 'mercedeS', 'hondA', 'tesla', 'vinfast']\n"
     ]
    }
   ],
   "source": [
    "my_list = [\"toyota\", \"mercedeS\", \"hondA\", \"tesla\", \"vinfast\"]\n",
    "\n",
    "newlist = my_list.copy()\n",
    "print(newlist)\n",
    "\n",
    "second_list = list(my_list)\n",
    "print(second_list)"
   ]
  },
  {
   "cell_type": "markdown",
   "id": "54e7404d",
   "metadata": {},
   "source": [
    "### Kết nối hai List"
   ]
  },
  {
   "cell_type": "code",
   "execution_count": 103,
   "id": "7c7a7639",
   "metadata": {},
   "outputs": [
    {
     "name": "stdout",
     "output_type": "stream",
     "text": [
      "[1, 2, 3, 4, 5, 'a', 'b', 'c', 'd']\n",
      "[1, 2, 3, 4, 5, 'a', 'b', 'c', 'd']\n",
      "[1, 2, 3, 4, 5, 'a', 'b', 'c', 'd', 'a', 'b', 'c', 'd']\n"
     ]
    }
   ],
   "source": [
    "list1 = [1, 2, 3, 4, 5]\n",
    "list2 = [\"a\",\"b\", \"c\", \"d\"]\n",
    "\n",
    "#Phương thức cộng\n",
    "list3 = list1 + list2\n",
    "print(list3)\n",
    "\n",
    "#Phương thức extend\n",
    "list1.extend(list2)\n",
    "print(list1)\n",
    "\n",
    "#Dùng vòng lặp\n",
    "for x in list2:\n",
    "    list1.append(x)\n",
    "print(list1)"
   ]
  },
  {
   "cell_type": "markdown",
   "id": "89ed92ee",
   "metadata": {},
   "source": [
    "## Python Tuples\n",
    " -Cấu trúc dữ liệu để lưu trữ nhiều phần tử trong một biến\n",
    " \n",
    " -Tuple gần giống với List chỉ khác ở chỗ Tuple là cấu trúc dữ liệu không thể thay đổi. Tức là sau khi khởi tạo, giá trị của một phần tử trong Tuple là không thể thay đổi giống trong List và tất nhiên cũng không thể xoá các phần tử trong tuple giống như trong List\n",
    " \n",
    " -Các phương thức truy nhập, duyệt,kiểm tra tồn tại, kết nối hai tuple chúng ta có thể làm tương tự như trên List\n",
    "### Dưới đây là một số phương thức khác biệt so với List khi làm việc với tuple"
   ]
  },
  {
   "cell_type": "markdown",
   "id": "b0702557",
   "metadata": {},
   "source": [
    "### Không thể thay đổi một giá trị trong Tuple"
   ]
  },
  {
   "cell_type": "code",
   "execution_count": 3,
   "id": "58a2577a",
   "metadata": {},
   "outputs": [
    {
     "name": "stdout",
     "output_type": "stream",
     "text": [
      "('dog', 'cat', 'buffalo')\n",
      "('dog', 'bird', 'buffalo')\n"
     ]
    }
   ],
   "source": [
    "my_tuple = (\"dog\", \"cat\", \"buffalo\")\n",
    "print(my_tuple)\n",
    "# my_tuple[1] = \"bird\" # Erorr\n",
    "\n",
    "# Để thay đổi ta cần chuyển kiểu tuple sang List rồi sau đó lại đổi lại\n",
    "my_list = list(my_tuple)\n",
    "my_list[1] = 'bird'\n",
    "my_tuple = tuple(my_list)\n",
    "print(my_tuple)"
   ]
  },
  {
   "cell_type": "markdown",
   "id": "c19b85f3",
   "metadata": {},
   "source": [
    "### Thêm phần tử vào tuple \n",
    "### Không thể thêm trực tiếp một phần tử vào tuple"
   ]
  },
  {
   "cell_type": "code",
   "execution_count": 8,
   "id": "77e2ef13",
   "metadata": {},
   "outputs": [
    {
     "name": "stdout",
     "output_type": "stream",
     "text": [
      "('dog', 'cat', 'buffalo', 'fish')\n",
      "('dog', 'cat', 'buffalo', 'fish')\n"
     ]
    }
   ],
   "source": [
    "# Cách1: Chuyển kiểu sang List\n",
    "my_tuple = (\"dog\", \"cat\", \"buffalo\")\n",
    "my_list = list(my_tuple)\n",
    "my_list.append(\"fish\")\n",
    "my_tuple = tuple(my_list)\n",
    "print(my_tuple)\n",
    "\n",
    "# Cách2: Thêm một tuple vào một tuple \n",
    "my_tuple = (\"dog\", \"cat\", \"buffalo\")\n",
    "add_tuple = (\"fish\",)\n",
    "my_tuple += add_tuple\n",
    "print(my_tuple)"
   ]
  },
  {
   "cell_type": "markdown",
   "id": "495f3e28",
   "metadata": {},
   "source": [
    "### Không thể xoá trực tiếp một phần tử vào tuple"
   ]
  },
  {
   "cell_type": "code",
   "execution_count": 10,
   "id": "1547136e",
   "metadata": {},
   "outputs": [
    {
     "name": "stdout",
     "output_type": "stream",
     "text": [
      "('dog', 'buffalo')\n"
     ]
    }
   ],
   "source": [
    "# Chuyển sang List\n",
    "my_tuple = (\"dog\", \"cat\", \"buffalo\")\n",
    "my_list = list(my_tuple)\n",
    "my_list.remove(\"cat\")\n",
    "my_tuple = tuple(my_list)\n",
    "print(my_tuple)\n",
    "\n",
    "# Xoá toàn bộ tuple\n",
    "del my_tuple"
   ]
  },
  {
   "cell_type": "markdown",
   "id": "4e07629c",
   "metadata": {},
   "source": [
    "### Giải nén một tuple"
   ]
  },
  {
   "cell_type": "code",
   "execution_count": 13,
   "id": "c8626c8e",
   "metadata": {},
   "outputs": [
    {
     "name": "stdout",
     "output_type": "stream",
     "text": [
      "dog cat buffalo\n",
      "dog ['cat', 'buffalo', 'fish']\n"
     ]
    }
   ],
   "source": [
    "my_tuple = (\"dog\", \"cat\", \"buffalo\")\n",
    "(Id1, Id2, Id3) = my_tuple\n",
    "print(Id1, Id2, Id3)\n",
    "this_tuple = (\"dog\", \"cat\", \"buffalo\", \"fish\")\n",
    "(x1, *x2) = this_tuple\n",
    "print(x1 , x2)"
   ]
  },
  {
   "cell_type": "markdown",
   "id": "61056d99",
   "metadata": {},
   "source": [
    "## Python Set\n",
    " *Set hay tập hợp được dùng để lưu trữ nhiều mục trong một biến duy nhất\n",
    " \n",
    " *Set là cấu trúc dữ liệu không sắp thứ tự, không được đánh chỉ mục, không thể thay đổi nhưng ta có thể xoá hoặc thêm các mục mới và các phần tử trong set ko được phép trùng lặp\n"
   ]
  },
  {
   "cell_type": "code",
   "execution_count": 14,
   "id": "34c491d9",
   "metadata": {},
   "outputs": [
    {
     "name": "stdout",
     "output_type": "stream",
     "text": [
      "{'cat', 'dog', 'chicken'}\n",
      "{'cat', 'dog', 'chicken'}\n",
      "{'false', 'True'}\n"
     ]
    }
   ],
   "source": [
    "my_set = {\"dog\", \"cat\", \"chicken\"}\n",
    "print(my_set)\n",
    "\n",
    "# Các giá trị trùng lặp sẽ bị lược bỏ\n",
    "this_set = {\"dog\", \"dog\", \"cat\", \"cat\", \"chicken\"} \n",
    "set2 = {\"false\", \"false\", \"True\", \"True\"} #{\"True\", \"False\"}\n",
    "print(this_set)\n",
    "print(set2)"
   ]
  },
  {
   "cell_type": "markdown",
   "id": "0edee7b9",
   "metadata": {},
   "source": [
    "### Truy cập và duyệt Set\n"
   ]
  },
  {
   "cell_type": "code",
   "execution_count": 15,
   "id": "69c63616",
   "metadata": {},
   "outputs": [
    {
     "name": "stdout",
     "output_type": "stream",
     "text": [
      "3\n"
     ]
    }
   ],
   "source": [
    "my_set = {\"dog\", \"cat\", \"chicken\"}\n",
    "print(len(my_set))\n",
    "\n",
    "for x in my_set:\n",
    "    print(x)"
   ]
  },
  {
   "cell_type": "markdown",
   "id": "3f4bdb90",
   "metadata": {},
   "source": [
    "###  Thêm phần tử mới"
   ]
  },
  {
   "cell_type": "code",
   "execution_count": 16,
   "id": "39778139",
   "metadata": {},
   "outputs": [
    {
     "name": "stdout",
     "output_type": "stream",
     "text": [
      "{'cat', 'dog', 'buffalo', 'chicken'}\n"
     ]
    }
   ],
   "source": [
    "my_set = {\"dog\", \"cat\", \"chicken\"}\n",
    "my_set.add(\"buffalo\")\n",
    "print(my_set)"
   ]
  },
  {
   "cell_type": "markdown",
   "id": "875ecf47",
   "metadata": {},
   "source": [
    "### Thêm các phần tử của một tập hợp, một danh sách, một từ điển,... vào tập hợp hiện tại (update())"
   ]
  },
  {
   "cell_type": "code",
   "execution_count": 19,
   "id": "d43ee9f3",
   "metadata": {},
   "outputs": [
    {
     "name": "stdout",
     "output_type": "stream",
     "text": [
      "{'apple', 'mango', 'banana', 'orange', 'papaya'}\n",
      "{'coconut', 'apple', 'mango', 'banana', 'strawbery', 'orange', 'papaya'}\n",
      "{'id2', 'strawbery', 'id1', 'papaya', 'coconut', 'apple', 'mango', 'banana', 'orange'}\n"
     ]
    }
   ],
   "source": [
    "set1 = {\"apple\", \"banana\", \"orange\"}\n",
    "list1 = [\"coconut\", \"strawbery\"]\n",
    "dict1 = {\"id1\" : \"banana\"\n",
    "        , \"id2\" : \"orange\"}\n",
    "set2 = {\"apple\", \"mango\", \"papaya\"}\n",
    "set1.update(set2)\n",
    "print(set1)\n",
    "set1.update(list1)\n",
    "print(set1)\n",
    "set1.update(dict1)\n",
    "print(set1)"
   ]
  },
  {
   "cell_type": "markdown",
   "id": "3f71982d",
   "metadata": {},
   "source": [
    "### Loại bỏ một phần tử cảu từ điển (remove(), discard())"
   ]
  },
  {
   "cell_type": "code",
   "execution_count": 22,
   "id": "d0cd62c6",
   "metadata": {},
   "outputs": [
    {
     "name": "stdout",
     "output_type": "stream",
     "text": [
      "{'banana', 'orange'}\n",
      "{'banana'}\n"
     ]
    }
   ],
   "source": [
    "set1 = {\"apple\", \"banana\", \"orange\"}\n",
    "set1.remove(\"apple\") # Nếu không có đối số thì phương thức remove() sẽ bị lỗi\n",
    "print(set1)\n",
    "\n",
    "set1.discard(\"\") # không bị lỗi\n",
    "set1.discard(\"orange\")\n",
    "print(set1)"
   ]
  },
  {
   "cell_type": "markdown",
   "id": "468cdb18",
   "metadata": {},
   "source": [
    "### Xoá tập hợp (del(), clear())"
   ]
  },
  {
   "cell_type": "code",
   "execution_count": 26,
   "id": "f12327e0",
   "metadata": {},
   "outputs": [
    {
     "name": "stdout",
     "output_type": "stream",
     "text": [
      "set()\n"
     ]
    }
   ],
   "source": [
    "set1 = {\"apple\", \"banana\", \"orange\"}\n",
    "\n",
    "set1.clear() # Trả về tập hợp rỗng\n",
    "print(set1)\n",
    "\n",
    "set1 = {\"apple\", \"banana\", \"orange\"}\n",
    "del(set1) # Xoá hoàn toàn set1"
   ]
  },
  {
   "cell_type": "markdown",
   "id": "599eca0c",
   "metadata": {},
   "source": [
    "### Duyệt tập hợp bằng vòng lặp"
   ]
  },
  {
   "cell_type": "code",
   "execution_count": 28,
   "id": "f06b0be6",
   "metadata": {},
   "outputs": [
    {
     "name": "stdout",
     "output_type": "stream",
     "text": [
      "😍💕😂👌😳"
     ]
    }
   ],
   "source": [
    "my_set = {\"😂\", \"😳\", \"😍\", \"💕\", \"👌\"}\n",
    "for x in my_set:\n",
    "    print(x, end=\"\")"
   ]
  },
  {
   "cell_type": "markdown",
   "id": "9c249cff",
   "metadata": {},
   "source": [
    "### Hợp hai tập hợp"
   ]
  },
  {
   "cell_type": "code",
   "execution_count": 30,
   "id": "480e314e",
   "metadata": {},
   "outputs": [
    {
     "name": "stdout",
     "output_type": "stream",
     "text": [
      "{'😂', '😳', '😍', '💕', 'apple', 'banana', 'orange', '👌'}\n"
     ]
    }
   ],
   "source": [
    "# union() trả về một tập hợp mới được hợp từ hai tập hợp cho trước và không cho phép trùng lặp\n",
    "\n",
    "set1 = {\"apple\", \"banana\", \"orange\"}\n",
    "set2 = {\"😂\", \"😳\", \"😍\", \"💕\", \"👌\"}\n",
    "set3 = set1.union(set2)\n",
    "print(set3)"
   ]
  },
  {
   "cell_type": "markdown",
   "id": "2d7044d4",
   "metadata": {},
   "source": [
    "### Giao hai tập hợp"
   ]
  },
  {
   "cell_type": "code",
   "execution_count": 33,
   "id": "bb60cf69",
   "metadata": {},
   "outputs": [
    {
     "name": "stdout",
     "output_type": "stream",
     "text": [
      "{'apple'}\n"
     ]
    }
   ],
   "source": [
    "#set3 = set1.intersection(set2)  Trả về tập hợp chứa các phần tử có cả\n",
    "#trong set1 và set2\n",
    "set1 = {\"apple\", \"banana\", \"orange\"}\n",
    "set2= {\"apple\", \"strawbery\", \"coconut\"}\n",
    "set3 = set1.intersection(set2)\n",
    "print(set3)"
   ]
  },
  {
   "cell_type": "markdown",
   "id": "a7b39d88",
   "metadata": {},
   "source": [
    "### Phần bù của hai tâp hợp\n"
   ]
  },
  {
   "cell_type": "code",
   "execution_count": 35,
   "id": "52b35c90",
   "metadata": {},
   "outputs": [
    {
     "name": "stdout",
     "output_type": "stream",
     "text": [
      "{'strawbery', 'coconut', 'banana', 'orange'}\n"
     ]
    }
   ],
   "source": [
    "\n",
    "#symmetric_difference() phương thức này trả về tập hợp chứa các\n",
    "#phần tử chỉ có trong một tập hợp và không nằm ở tập hợp còn lại\n",
    "\n",
    "set1 = {\"apple\", \"banana\", \"orange\"}\n",
    "set2= {\"apple\", \"strawbery\", \"coconut\"}\n",
    "set3 = set1.symmetric_difference(set2)\n",
    "print(set3)"
   ]
  },
  {
   "cell_type": "markdown",
   "id": "c5d92e98",
   "metadata": {},
   "source": [
    "## Python Dictionary\n",
    "### *Dictionary là kiểu dữ liệu có cấu trúc được dùng để lưu trữ các phần tử dưới dạng cặp (key : value)\n",
    "### * Dictionary là một bộ không sắp thứ tự, có thể thay đổi và không cho phép trùng lặp(không thể có hai khoá trùng nhau)"
   ]
  },
  {
   "cell_type": "code",
   "execution_count": 42,
   "id": "1fb7d669",
   "metadata": {},
   "outputs": [
    {
     "name": "stdout",
     "output_type": "stream",
     "text": [
      "{'name': 'minhtuyen', 'phone': '012345678', 'age': '21', 'id': ['0', '1', '2']}\n",
      "my_dict length: 4\n",
      "<class 'dict'>\n"
     ]
    }
   ],
   "source": [
    "my_dict = {\n",
    "    \"name\" : \"minhtuyen\",\n",
    "    \"phone\" :\"012345678\",\n",
    "    \"age\" : \"21\",\n",
    "    \"id\" : [\"0\", \"1\", \"2\"]\n",
    "}\n",
    "print(my_dict)\n",
    "print(f\"my_dict length: {len(my_dict)}\")\n",
    "print(type(my_dict))"
   ]
  },
  {
   "cell_type": "markdown",
   "id": "d5d1640a",
   "metadata": {},
   "source": [
    "### Truy cập một từ điển"
   ]
  },
  {
   "cell_type": "code",
   "execution_count": 48,
   "id": "36f7446a",
   "metadata": {},
   "outputs": [
    {
     "name": "stdout",
     "output_type": "stream",
     "text": [
      "minhtuyen\n",
      "dict_keys(['name', 'phone', 'age', 'class'])\n",
      "dict_values(['minhtuyen', '012345678', '21', 'It2_01'])\n",
      "dict_items([('name', 'minhtuyen'), ('phone', '012345678'), ('age', '21'), ('class', 'It2_01')])\n"
     ]
    }
   ],
   "source": [
    "my_dict = {\n",
    "    \"name\" : \"minhtuyen\",\n",
    "    \"phone\" :\"012345678\",\n",
    "    \"age\" : \"21\",\n",
    "    \"class\" :\"It2_01\"\n",
    "}\n",
    "print(my_dict[\"name\"]) # Truy nhập dưới dạng my_dict[\"key\"] : value\n",
    "\n",
    "print(my_dict.keys()) #trả về dnah sách tất cả các khoá trong dict\n",
    "print(my_dict.values()) # Trả về danh sách giá trị\n",
    "print(my_dict.items()) # Trả về danh sách các cặp (keys, values)\n",
    " "
   ]
  },
  {
   "cell_type": "markdown",
   "id": "3a41ed0c",
   "metadata": {},
   "source": [
    "### Cập nhật, thêm mới"
   ]
  },
  {
   "cell_type": "code",
   "execution_count": 52,
   "id": "cdda5506",
   "metadata": {},
   "outputs": [
    {
     "name": "stdout",
     "output_type": "stream",
     "text": [
      "{'name': 'minhtuyen', 'phone': '012345678', 'age': '21', 'id': ['0', '1', '2']}\n",
      "{'name': 'minhtuyen', 'phone': '0987654432', 'age': 22, 'id': ['0', '1', '2'], 'sex': 'male'}\n",
      "{'name': 'minhtuyen', 'phone': '0987654432', 'age': 22, 'id': ['0', '1', '2'], 'sex': 'male', 'address': 'BKHN'}\n"
     ]
    }
   ],
   "source": [
    "my_dict = {\n",
    "    \"name\" : \"minhtuyen\",\n",
    "    \"phone\" :\"012345678\",\n",
    "    \"age\" : \"21\",\n",
    "    \"id\" : [\"0\", \"1\", \"2\"]\n",
    "}\n",
    "print(my_dict)\n",
    "\n",
    "my_dict[\"sex\"] = \"male\" #Khoá mới chưa tồn tại -> thêm mới\n",
    "my_dict[\"age\"] = 22  #Nếu khoá mới tồn tại -> cập nhật giá trị\n",
    "my_dict.update({\"phone\" : \"0987654432\"})  # Cập nhật giá trị của một khoá\n",
    "print(my_dict)\n",
    "\n",
    "my_dict.update({\"address\" : \"BKHN\"}) # cập nhật thêm cặp (keys, values)\n",
    "print(my_dict)"
   ]
  },
  {
   "cell_type": "markdown",
   "id": "4cc091ac",
   "metadata": {},
   "source": [
    "### Xoá từ điển"
   ]
  },
  {
   "cell_type": "code",
   "execution_count": 55,
   "id": "50bcafd0",
   "metadata": {},
   "outputs": [
    {
     "name": "stdout",
     "output_type": "stream",
     "text": [
      "{'name': 'minhtuyen', 'phone': '012345678', 'age': '21'}\n",
      "{'name': 'minhtuyen', 'phone': '012345678'}\n",
      "{}\n"
     ]
    }
   ],
   "source": [
    "#Xoá một phần tử ngẫu nhiên\n",
    "my_dict = {\n",
    "    \"name\" : \"minhtuyen\",\n",
    "    \"phone\" :\"012345678\",\n",
    "    \"age\" : \"21\",\n",
    "    \"id\" : [\"0\", \"1\", \"2\"]\n",
    "}\n",
    "my_dict.popitem()\n",
    "print(my_dict)\n",
    "\n",
    "#Xoá các phần tử có khoá chỉ định\n",
    "del my_dict[\"age\"]\n",
    "print(my_dict)\n",
    "#Xoá toàn bộ phần tử, trả về từ điển rỗng\n",
    "my_dict.clear()\n",
    "print(my_dict)"
   ]
  },
  {
   "cell_type": "markdown",
   "id": "a41a7817",
   "metadata": {},
   "source": [
    "### Duyệt từ điển"
   ]
  },
  {
   "cell_type": "code",
   "execution_count": 65,
   "id": "a4fe2f5d",
   "metadata": {},
   "outputs": [
    {
     "name": "stdout",
     "output_type": "stream",
     "text": [
      "('name', 'minhtuyen')  ('phone', '012345678')  ('age', '21')  ('id', ['0', '1', '2'])  \n",
      "\n",
      "name  phone  age  id  \n",
      "\n",
      "minhtuyen  012345678  21  ['0', '1', '2']  "
     ]
    }
   ],
   "source": [
    "my_dict = {\n",
    "    \"name\" : \"minhtuyen\",\n",
    "    \"phone\" :\"012345678\",\n",
    "    \"age\" : \"21\",\n",
    "    \"id\" : [\"0\", \"1\", \"2\"]\n",
    "}\n",
    "\n",
    "#duyệt tất cả các phần tử của từ điển\n",
    "for x in my_dict.items():\n",
    "    print(x ,\" \", end = \"\")\n",
    "print(\"\\n\")  \n",
    "#Duyệt danh sách các khoá\n",
    "for x in my_dict.keys():\n",
    "    print(x, \" \", end = \"\")\n",
    "print(\"\\n\") \n",
    "#Duyệt danh sách giá trị\n",
    "for x in my_dict.values():\n",
    "    print(x, ' ', end = \"\")"
   ]
  },
  {
   "cell_type": "markdown",
   "id": "5db1ffc6",
   "metadata": {},
   "source": [
    "### Sao chép"
   ]
  },
  {
   "cell_type": "code",
   "execution_count": 66,
   "id": "9615f236",
   "metadata": {},
   "outputs": [
    {
     "name": "stdout",
     "output_type": "stream",
     "text": [
      "{'name': 'minhtuyen', 'phone': '012345678', 'age': '21', 'id': ['0', '1', '2']}\n",
      "{'name': 'minhtuyen', 'phone': '012345678', 'age': '21', 'id': ['0', '1', '2']}\n"
     ]
    }
   ],
   "source": [
    "my_dict = {\n",
    "    \"name\" : \"minhtuyen\",\n",
    "    \"phone\" :\"012345678\",\n",
    "    \"age\" : \"21\",\n",
    "    \"id\" : [\"0\", \"1\", \"2\"]\n",
    "}\n",
    "print(my_dict)\n",
    "\n",
    "dict2 = my_dict.copy()\n",
    "print(dict2)"
   ]
  },
  {
   "cell_type": "markdown",
   "id": "60627740",
   "metadata": {},
   "source": [
    "### Từ điển trong từ điển (một từ điển có thể nằm trong một từ điển khác)"
   ]
  },
  {
   "cell_type": "code",
   "execution_count": 69,
   "id": "dd9b664b",
   "metadata": {},
   "outputs": [
    {
     "name": "stdout",
     "output_type": "stream",
     "text": [
      "{'mem_1': {'name': 'Dung', 'id': '01'}, 'mem_2': {'name': 'Đạt', 'id': '02'}}\n",
      "Dung\n"
     ]
    }
   ],
   "source": [
    "my_team = {\n",
    "    \"mem_1\" : {\n",
    "        \"name\" : \"Dung\",\n",
    "        \"id\" :\"01\"\n",
    "    },\n",
    "    \"mem_2\" : {\n",
    "        \"name\" : \"Đạt\",\n",
    "        \"id\" :\"02\"\n",
    "    }\n",
    "}\n",
    "print(my_team)\n",
    "print(my_team[\"mem_1\"][\"name\"])"
   ]
  },
  {
   "cell_type": "markdown",
   "id": "8ee51b39",
   "metadata": {},
   "source": [
    "# Python if(): else()"
   ]
  },
  {
   "cell_type": "code",
   "execution_count": 73,
   "id": "73f260b6",
   "metadata": {},
   "outputs": [
    {
     "name": "stdout",
     "output_type": "stream",
     "text": [
      "hihi\n",
      "b vs c are equal\n"
     ]
    }
   ],
   "source": [
    "a = 3\n",
    "b = 4\n",
    "c = 4\n",
    "if a < b:\n",
    "    print(\"hihi\")\n",
    "if a == b :\n",
    "    print(\"a vs b are equal\")\n",
    "elif c == b :\n",
    "    print(\"b vs c are equal\")"
   ]
  },
  {
   "cell_type": "code",
   "execution_count": 74,
   "id": "0b552134",
   "metadata": {},
   "outputs": [
    {
     "name": "stdout",
     "output_type": "stream",
     "text": [
      "This number has two digit\n"
     ]
    }
   ],
   "source": [
    "x = 32\n",
    "\n",
    "if x > 0 and x < 10:\n",
    "    print(\"This number has one digit\")\n",
    "elif 10 < x and x < 99:\n",
    "    print(\"This number has two digit\")\n",
    "else:\n",
    "    print(\"This num ber is greater than 100\")"
   ]
  },
  {
   "cell_type": "code",
   "execution_count": 83,
   "id": "5ec98fec",
   "metadata": {},
   "outputs": [],
   "source": [
    "a = 30\n",
    "b = 33\n",
    "if a < b:\n",
    "    pass # Bên trong câu lệnh if-else ko được rỗng -> từ khoá pass giúp ta bỏ qua lỗi này\n"
   ]
  },
  {
   "cell_type": "markdown",
   "id": "91c7464d",
   "metadata": {},
   "source": [
    "# Vòng lặp trong Python"
   ]
  },
  {
   "cell_type": "markdown",
   "id": "4e0c4f6f",
   "metadata": {},
   "source": [
    "### Vòng lặp While"
   ]
  },
  {
   "cell_type": "code",
   "execution_count": 82,
   "id": "2a60d187",
   "metadata": {},
   "outputs": [
    {
     "name": "stdout",
     "output_type": "stream",
     "text": [
      "hihi\n",
      "hihi\n",
      "hihi\n",
      "hihi\n",
      "hihi\n",
      "I'm Tuyen\n",
      "hihi\n",
      "I'm Tuyen\n",
      "hihi\n",
      "hihi\n",
      "hihi\n",
      "hihi\n",
      "hihi\n",
      "hihi\n",
      "hihi\n",
      "hihi\n",
      "hihi\n",
      "i is greater than 12\n"
     ]
    }
   ],
   "source": [
    "\n",
    "i = 0\n",
    "while i < 15:\n",
    "    print(\"hihi\")\n",
    "    i+=1\n",
    "    if i < 5 or i > 6:\n",
    "        continue #Bỏ qua các câu lệnh sau từ khoá continue tiếp tuc vòng lặp\n",
    "    print(\"I'm Tuyen\")\n",
    "    if i > 9:\n",
    "        break #Dừng vòng lặp\n",
    "else:\n",
    "    print(\"i is greater than 12\")"
   ]
  },
  {
   "cell_type": "markdown",
   "id": "883dde98",
   "metadata": {},
   "source": [
    "### Vòng lặp for"
   ]
  },
  {
   "cell_type": "code",
   "execution_count": 92,
   "id": "b33b4de0",
   "metadata": {},
   "outputs": [
    {
     "name": "stdout",
     "output_type": "stream",
     "text": [
      "dog\n",
      "cat\n",
      "0  1  2  3  4  5  \n",
      "\n",
      "2  5  8  11  14  17  "
     ]
    }
   ],
   "source": [
    "my_tuple = (\"dog\", \"cat\", \"buffalo\")\n",
    "\n",
    "for x in my_tuple:\n",
    "    print(x)\n",
    "    if x == \"cat\":\n",
    "        break\n",
    "        \n",
    "# LẶp cho đến tin tìm được \"cat\"\n",
    "for x in my_tuple:\n",
    "    if x != \"cat\":\n",
    "        continue\n",
    "        print(x)\n",
    "        \n",
    "# Hàm range() hỗ trợ lặp qua một số lần xác định\n",
    "for x in range(6):\n",
    "    print(x, \" \", end = \"\")\n",
    "print(\"\\n\")\n",
    "# Lặp với bước nhảy xác định\n",
    "for x in range(2, 20, 3):\n",
    "    print(x, \" \",end = \"\")"
   ]
  },
  {
   "cell_type": "markdown",
   "id": "32303c50",
   "metadata": {},
   "source": [
    "# Python Function"
   ]
  },
  {
   "cell_type": "markdown",
   "id": "2d250532",
   "metadata": {},
   "source": [
    "### Khai báo một hàm"
   ]
  },
  {
   "cell_type": "code",
   "execution_count": 93,
   "id": "67f49b42",
   "metadata": {},
   "outputs": [
    {
     "name": "stdout",
     "output_type": "stream",
     "text": [
      "Hello\n"
     ]
    }
   ],
   "source": [
    "def my_fun():\n",
    "    print(\"Hello\")\n",
    "my_fun()"
   ]
  },
  {
   "cell_type": "markdown",
   "id": "a373cb2b",
   "metadata": {},
   "source": [
    "### Tham số và đối số"
   ]
  },
  {
   "cell_type": "code",
   "execution_count": 95,
   "id": "76182c97",
   "metadata": {},
   "outputs": [
    {
     "name": "stdout",
     "output_type": "stream",
     "text": [
      "5\n"
     ]
    }
   ],
   "source": [
    "# Tham số là các biến được khai báo khi ta tạo một hàm chứa tham số\n",
    "def my_function(a, b):\n",
    "    return a + b\n",
    "#Đối số là giá trị được truyền vào hàm khi ta gọi hàm\n",
    "#Số đối số phải tương ứng với số tham số khi tạo hàm\n",
    "print(my_function(2,3))"
   ]
  },
  {
   "cell_type": "code",
   "execution_count": 111,
   "id": "8b2ab463",
   "metadata": {},
   "outputs": [
    {
     "name": "stdout",
     "output_type": "stream",
     "text": [
      "4\n",
      "1\n"
     ]
    }
   ],
   "source": [
    "#Tham số mặc định, khi không truyền đối số thì hàm sẽ thực hiện với tham số mặc định\n",
    "def my_function(a = 1):\n",
    "    return a\n",
    "print(my_function(4))\n",
    "print(my_function())"
   ]
  },
  {
   "cell_type": "markdown",
   "id": "996d1a08",
   "metadata": {},
   "source": [
    "### *args, **kwargs"
   ]
  },
  {
   "cell_type": "code",
   "execution_count": 97,
   "id": "ebe9aa86",
   "metadata": {},
   "outputs": [
    {
     "name": "stdout",
     "output_type": "stream",
     "text": [
      "10\n"
     ]
    }
   ],
   "source": [
    "# *args cho phép ta xây dựng hàm mà chưa biết có chính xác bao nhiêu đối số đưuọc truyền\n",
    "def my_function(*var):\n",
    "    return var[2] + var[3] #Tổng đối số thứ 2 và 3\n",
    "result = my_function(1, 3, 4, 6, 20)\n",
    "print(result)"
   ]
  },
  {
   "cell_type": "code",
   "execution_count": 105,
   "id": "3c623d4d",
   "metadata": {},
   "outputs": [
    {
     "name": "stdout",
     "output_type": "stream",
     "text": [
      "The last number is 4\n",
      "The last number is 4\n"
     ]
    }
   ],
   "source": [
    "# Truyển đối số dưới dạng key = value\n",
    "def my_function(a, b, c):\n",
    "    print(f\"The last number is {c}\")\n",
    "my_function(2, 3, 4)\n",
    "my_function(c = 4, b = 3, a = 2)"
   ]
  },
  {
   "cell_type": "code",
   "execution_count": 109,
   "id": "ed4258fd",
   "metadata": {},
   "outputs": [
    {
     "name": "stdout",
     "output_type": "stream",
     "text": [
      "The last member is Celica\n"
     ]
    }
   ],
   "source": [
    "# Truyền đối số dưới dạng key=value khi chưa biết số lượng đối số\n",
    "def my_function(**kwargs):\n",
    "    print(f\"The last member is \" + kwargs[\"c\"])\n",
    "\n",
    "my_function(c = \"Celica\", b = \"Bob\", a = \"Anna\")"
   ]
  },
  {
   "cell_type": "code",
   "execution_count": 112,
   "id": "604c2531",
   "metadata": {},
   "outputs": [],
   "source": [
    "# một hàm khi khai báo ko được để rỗng\n",
    "# Từ khoá pass sẽ giúp ta đẻ trông một hàm mà ko bị lỗi\n",
    "def my_function():\n",
    "    pass"
   ]
  },
  {
   "cell_type": "markdown",
   "id": "48cd8514",
   "metadata": {},
   "source": [
    "### Hàm đệ quy (Gọi lại chính nó)"
   ]
  },
  {
   "cell_type": "code",
   "execution_count": 118,
   "id": "2e0b568c",
   "metadata": {},
   "outputs": [
    {
     "name": "stdout",
     "output_type": "stream",
     "text": [
      "24\n"
     ]
    }
   ],
   "source": [
    "# Ví dụ tính n!\n",
    "def factorial(n):\n",
    "    if n == 0: return 1\n",
    "    if n == 1: return 1\n",
    "    else:\n",
    "        return n * factorial(n-1)\n",
    "print(factorial(4))"
   ]
  },
  {
   "cell_type": "markdown",
   "id": "6988012e",
   "metadata": {},
   "source": [
    "### Python Lambda\n",
    "    Synctax:     lambda argument : expression\n",
    "#### Nhận vào đối số bất kì với số lượng tuỳ ý và trả về kết quả cảu biểu thức expression"
   ]
  },
  {
   "cell_type": "code",
   "execution_count": 127,
   "id": "80ec281a",
   "metadata": {},
   "outputs": [
    {
     "name": "stdout",
     "output_type": "stream",
     "text": [
      "4\n"
     ]
    }
   ],
   "source": [
    "x = lambda a: a% 5\n",
    "print(x(9))"
   ]
  },
  {
   "cell_type": "code",
   "execution_count": 128,
   "id": "a8c15e3f",
   "metadata": {},
   "outputs": [
    {
     "name": "stdout",
     "output_type": "stream",
     "text": [
      "6\n"
     ]
    }
   ],
   "source": [
    "x = lambda a, b, c : a * b *c\n",
    "print(x(1,2,3))"
   ]
  },
  {
   "cell_type": "code",
   "execution_count": 131,
   "id": "7fe5a2fc",
   "metadata": {},
   "outputs": [
    {
     "name": "stdout",
     "output_type": "stream",
     "text": [
      "33\n"
     ]
    }
   ],
   "source": [
    "#Sử dụng lambda như một hàm nhỏ ẩn danh\n",
    "#Ta nên sử dụng lambda khi ta cần một chức năng nhó\n",
    "def my_func(n):\n",
    "    return lambda a: a * n\n",
    "pre_result = my_func(11)\n",
    "print(pre_result(3))"
   ]
  },
  {
   "cell_type": "markdown",
   "id": "771813c6",
   "metadata": {},
   "source": [
    "# Xử Lý File Trong Python\n"
   ]
  },
  {
   "cell_type": "markdown",
   "id": "dc203718",
   "metadata": {},
   "source": [
    "## Đóng  mở File\n",
    " “r” – Mở File để đọc – sẽ gây ra lỗi nếu tệp không tồn tại.\n",
    " \n",
    " “a” – Mở File để thêm dữ liệu vào cuối File – sẽ tạo tệp nếu tệp không tồn tại.\n",
    " \n",
    " “w” – Mở File để ghi dữ liệu – sẽ tạo tệp nếu tệp đó không tồn tại.\n",
    " \n",
    " “x” – Tạo tệp được chỉ định – sẽ gây ra lỗi nếu tệp đã tồn tại\n",
    " \n",
    " “t” – Text – Văn bản (phần đuôi .txt)\n",
    " \n",
    " “b” – Binary – Chế độ nhị phân "
   ]
  },
  {
   "cell_type": "code",
   "execution_count": 2,
   "id": "3be38861",
   "metadata": {},
   "outputs": [],
   "source": [
    "# Mở file bằng hàm open() và các chế độ mở khác nhau\n",
    "f1 = open(\"input.txt\", \"rt\") #Mở file text chế độ đọc text\n",
    "f2 = open(\"input.txt\", \"wt\") #Mở file text với chế độ ghi file"
   ]
  },
  {
   "cell_type": "code",
   "execution_count": 3,
   "id": "07123bfd",
   "metadata": {},
   "outputs": [],
   "source": [
    "# Đóng file\n",
    "f1.close()\n",
    "f2.close()"
   ]
  },
  {
   "cell_type": "markdown",
   "id": "84880a96",
   "metadata": {},
   "source": [
    "## Đọc File trong Python"
   ]
  },
  {
   "cell_type": "code",
   "execution_count": 15,
   "id": "5228bb45",
   "metadata": {},
   "outputs": [
    {
     "name": "stdout",
     "output_type": "stream",
     "text": [
      "truong minh tuyen\n",
      "soict 2023\n",
      "Python is great!!!\n",
      "Python is easy\n",
      "\n"
     ]
    }
   ],
   "source": [
    "#Mở file\n",
    "f1 = open(\"input.txt\", \"r\")\n",
    "#Đọc file bằng hàm read()\n",
    "print(f1.read())\n",
    "f1.close()"
   ]
  },
  {
   "cell_type": "code",
   "execution_count": 21,
   "id": "350bb478",
   "metadata": {},
   "outputs": [
    {
     "name": "stdout",
     "output_type": "stream",
     "text": [
      "truong minh tuyen\n",
      "\n"
     ]
    }
   ],
   "source": [
    "#Đọc từng dòng trong file với hàm readline()\n",
    "f2 = open(\"input.txt\", \"r\")\n",
    "print(f2.readline())\n"
   ]
  },
  {
   "cell_type": "code",
   "execution_count": 22,
   "id": "df8af66c",
   "metadata": {},
   "outputs": [
    {
     "name": "stdout",
     "output_type": "stream",
     "text": [
      "soict 2023\n",
      "\n",
      "Python is great!!!\n",
      "\n",
      "Python is easy\n",
      "\n"
     ]
    }
   ],
   "source": [
    "# Đọc dòng bằng vòng lặp\n",
    "for x in f2:\n",
    "    print(x)\n",
    "f2.close()"
   ]
  },
  {
   "cell_type": "code",
   "execution_count": 24,
   "id": "8ad54be7",
   "metadata": {},
   "outputs": [
    {
     "name": "stdout",
     "output_type": "stream",
     "text": [
      "truong m\n"
     ]
    }
   ],
   "source": [
    "#Đọc kí tự tuỳ ý trong file\n",
    "f3 = open(\"input.txt\", \"r\")\n",
    "print(f3.read(8))\n",
    "f3.close()"
   ]
  },
  {
   "cell_type": "markdown",
   "id": "564d136f",
   "metadata": {},
   "source": [
    "## Ghi File\n",
    "### “a” – Chế độ này sẽ thực hiện ghi dữ liệu vào cuối tệp tin\n",
    "### “w” – Chế độ này sẽ thực hiện ghi đè dữ liệu vào File"
   ]
  },
  {
   "cell_type": "code",
   "execution_count": 30,
   "id": "397543a6",
   "metadata": {},
   "outputs": [
    {
     "name": "stdout",
     "output_type": "stream",
     "text": [
      "truong minh tuyen\n",
      "soict 2023\n",
      "Python is great!!!\n",
      "Python is easy\n",
      "minh tuyen it2_01 K65minh tuyen it2_01 K65\n"
     ]
    }
   ],
   "source": [
    "# Ghi dữ liệu vào cuối file\n",
    "f1 = open(\"input.txt\", \"a\")\n",
    "f1.write(\"minh tuyen it2_01 K65\")\n",
    "f1.close()\n",
    "f1 = open(\"input.txt\", \"r\")\n",
    "print(f1.read())\n",
    "f1.close()"
   ]
  },
  {
   "cell_type": "code",
   "execution_count": 33,
   "id": "82963ff2",
   "metadata": {},
   "outputs": [
    {
     "name": "stdout",
     "output_type": "stream",
     "text": [
      "Khi ghi đè thì dữ liệu cũ sẽ bị xoá\n"
     ]
    }
   ],
   "source": [
    "# Ghi đè dữ liệu lên file\n",
    "f1 = open(\"input.txt\", \"w\")\n",
    "f1.write(\"Khi ghi đè thì dữ liệu cũ sẽ bị xoá\")\n",
    "f1.close()\n",
    "f1=open(\"input.txt\", \"r\")\n",
    "print(f1.read())\n",
    "f1.close()"
   ]
  },
  {
   "cell_type": "code",
   "execution_count": 41,
   "id": "67a0e4a9",
   "metadata": {},
   "outputs": [],
   "source": [
    "# Ghi List vào cuối file\n",
    "f = open(\"input.txt\", \"a\")\n",
    "data = [\"python\", \"java\", \"javascript\"]\n",
    "f.writelines(data)\n",
    "f.close()"
   ]
  },
  {
   "cell_type": "code",
   "execution_count": 42,
   "id": "98f43acd",
   "metadata": {},
   "outputs": [
    {
     "name": "stdout",
     "output_type": "stream",
     "text": [
      "Khi ghi đè thì dữ liệu cũ sẽ bị xoá\n",
      "pythonjavajavascript\n"
     ]
    }
   ],
   "source": [
    "f = open(\"input.txt\", \"r\")\n",
    "print(f.read())\n",
    "f.close()"
   ]
  },
  {
   "cell_type": "markdown",
   "id": "9088e449",
   "metadata": {},
   "source": [
    "## Xoá File"
   ]
  },
  {
   "cell_type": "code",
   "execution_count": 44,
   "id": "f4644cb9",
   "metadata": {},
   "outputs": [],
   "source": [
    "#Xoá file \n",
    "import os\n",
    "os.remove(\"Python_language.txt\")\n",
    "#Xoá thư mục\n",
    "os.rmdir(\"Python_language\")"
   ]
  },
  {
   "cell_type": "code",
   "execution_count": null,
   "id": "615fff4d",
   "metadata": {},
   "outputs": [],
   "source": []
  }
 ],
 "metadata": {
  "kernelspec": {
   "display_name": "Python 3 (ipykernel)",
   "language": "python",
   "name": "python3"
  },
  "language_info": {
   "codemirror_mode": {
    "name": "ipython",
    "version": 3
   },
   "file_extension": ".py",
   "mimetype": "text/x-python",
   "name": "python",
   "nbconvert_exporter": "python",
   "pygments_lexer": "ipython3",
   "version": "3.9.13"
  }
 },
 "nbformat": 4,
 "nbformat_minor": 5
}
